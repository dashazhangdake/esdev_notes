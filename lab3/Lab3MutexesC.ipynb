{
 "cells": [
  {
   "cell_type": "markdown",
   "id": "2eff7326",
   "metadata": {},
   "source": [
    "# 1. Fudamentals\n",
    "## 1.1. Terms\n",
    "**Mutex** stands for \"mutual exclusion semaphore\", which indicates they are good for ensuring **mutual exclusion** between threads when accessing shared resources. Mutexes are similiar to **binary semaphores**.\n",
    "\n",
    "Recall that all threads running in a process share the resources of that process: memory, files, etc. \n",
    "Consider the case when two threads need a shared resource (like a serial port) to perform some action (e.g. send messages in sequences of bytes). We don't want to get the bytes of the messages mixed up coming from the two threads, so this **resource** needs to be under **\"mutual exclusion\"**: \n",
    "* **Only one thread** can access it while sending a complete message. \n",
    "* We call the section of the code accessing the shared resources a **\"critical section\"**. Two or more threads cannot excecute in the critical simultaneously\n",
    "* **At most** one thread is permitted to execute that critical section at any time.\n",
    "\n",
    "## 1.2. Mutex States\n",
    "A mutex has two states: locked an unlocked. It can be considered as a binary counter, that can be either \n",
    "* **0 (locked)**: when entering the critical section\n",
    "* **1(unlocked)**: when exiting the critical section\n",
    "One can think of two operations to protect the critical section\n",
    "\n",
    "## 1.3. Semantics\n",
    "* ```lock(m)```: \n",
    "    * If mutex ```m``` is unclocked (counter = 1), lock it (decrease the counter to 0). \n",
    "    * If the mutex is locked (counter = 0), block until ```m``` is unlocked.\n",
    "* ```unlock(m)```: \n",
    "    * If mutex ```m``` is unlocked (counter = 1), error\n",
    "    * If mutex is locked (counter = 0), unlock it (increase the counter) and wake up blocked threads\n",
    "    \n",
    "The mutex must be:\n",
    "* **locked** to **aquire a shared resource** (entering the critical section) before **accessing** it\n",
    "* **unlocked** when the access to the shared resource is **terminated**\n",
    "\n",
    "## 1.4. Semaphore vs. Mutex\n",
    "While a semaphore provides generic synchornization because of the semaphpre can be initialized to a generic value, a mutex explictly provides the concept of **critical section** (they can be **ONLY** used for mutal exclusion). \n",
    "\n",
    "The mutex counter is always automatically initialized to 1, and the mutex can be unlocked only by the thread that locked it!\n",
    "\n",
    "Mutexes are less powerful than (general purpose) semaphores, but can help preventing program errors."
   ]
  },
  {
   "cell_type": "markdown",
   "id": "edb46ad6",
   "metadata": {},
   "source": [
    "# 2. Basic Mutex Operations\n",
    "In POSIX, basic mutex operations we covered in this lab are\n",
    "\n",
    "## 2.1. Initialize/Detrory a mutex\n",
    "### 2.1.a Define and initialize a mutex\n",
    "* A mutex is defined by a decriptor of type: ```pthread_mutex_t```\n",
    "* A mutex must be initialized before using with ```pthread_mutex_init()``` function\n",
    "    * When initializing a mutex, a **strucutre** of type ```pthread_mutexattr_t``` can be used to describe the mutex attributes \n",
    "\n",
    "To initialize a mutex, use:\n",
    "\n",
    "```int pthread_mutex_init(pthread_mutex_t *mutex, const pthread_mutexattr_t *attr);```\n",
    "\n",
    "* Returns 0 when success, non-0 in case of error\n",
    "* The mutex is returned in mutex *(Think about **why**, its a good mini practice if your C skill is rusted)*\n",
    "* attr can be  ```NULL``` when using the **default attributes**\n",
    "\n",
    "### 2.1.b. Coding example for mutex initialization\n",
    "E.g. the code snipet below creates \n",
    "\n",
    "* a mutex variable ```mymutex```\n",
    "* a mutex attributes structure ```mymutexattr```\n",
    "* intialize mutex attributes with ```pthread_mutexattr_init()```\n",
    "* initalize mutex with ```pthread_mutex_init()``` \n",
    "\n",
    "```c\n",
    "    pthread_mutex_t mymutex;\n",
    "    pthread_mutexattr_init(&mymutexattr);\n",
    "    pthread_mutex_init(&mymutex, &mymutexattr);\n",
    "```\n",
    "\n",
    "\n",
    "**Note:** Alternatively, you can initialize the mutex variable with an initializer at the place where the variable is declared like: ```pthread_mutex_t mutex_variable = PTHREAD_MUTEX_INITIALIZER;```. This is equivalent to calling the ```pthread_mutex_init()``` with a ```NULL``` for the ```attr```.\n",
    "\n",
    "### 2.1.c. Destroy a mutex\n",
    "If a mutex is no longer needed, use ```int pthread_mutex_destroy(pthread_mutex_t *mutex);```\n",
    "E.g. destroy the ```mymutex``` we created using: \n",
    "```c\n",
    "pthread_mutex_destroy(&mymutex);\n",
    "```"
   ]
  },
  {
   "cell_type": "markdown",
   "id": "5e9e5a42",
   "metadata": {},
   "source": [
    "## 2.2. Lock/unlock the mutex\n",
    "### 2.1.a. Blocking locking\n",
    "We have discussed about it in section 1. It works like:\n",
    "* ```lock(m)``` with ```int pthread_mutex_lock(pthread_mutex_t *mutex)```\n",
    "    * If mutex ```m``` is unclocked (counter = 1), lock it (decrease the counter to 0). \n",
    "    * If the mutex is locked (counter = 0), block until ```m``` is unlocked.\n",
    "* ```unlock(m)``` with ```int pthread_mutex_unlock(pthread_mutex_t *mutex)```\n",
    "    * If mutex ```m``` is unlocked (counter = 1), error\n",
    "    * If mutex is locked (counter = 0), unlock it (increase the counter) and wake up blocked threads\n",
    "    \n",
    "E.g. lock/unlock ```mymutex``` we created before\n",
    "```c\n",
    "  pthread_mutex_lock(&mymutex);\n",
    "  pthread_mutex_unlock(&mymutex);\n",
    "```\n",
    "\n",
    "### 2.2.b. Non-blocking locking\n",
    "Non-blocking locking (called ```trylock```) using ```int pthread_mutex_trylock(pthread_mutex_t *mutex)```. THis locking function works as follows:\n",
    "* If the mutex is unlocked (=1), lock it (decrease the counter to 0) and continue\n",
    "* If the mutex is locked (=0), fail without blocking but returning an error\n",
    "E.g. trylock ```mymutex``` we created\n",
    "```c\n",
    "  pthread_mutex_trylock(&mymutex);\n",
    "```\n",
    "\n",
    "Note that ```pthread_mutex_lock()``` is not a cancellation point, this is the basic introduction to mutexes."
   ]
  },
  {
   "cell_type": "markdown",
   "id": "3df2eaf8",
   "metadata": {},
   "source": [
    "# 3. Working with multiple mutexes\n",
    "In some situations you may need to grab multiple resources - e.g. if a thread needs exclusive access to more than one (say 2) devices at the same time.\n",
    "\n",
    "Device access can be encapsulated into critical sections. but in this case, a thread will need to enter **another critical section** while already **being in a critical section**\n",
    "\n",
    "\n",
    "The problem for two devices can be solved by using two mutexes, each protecting one of the resources. However, it is important that the two mutexes are **locked** in **the same order** in **each thread**. \n",
    "\n",
    "e.g. ```lock(a) -> lock(b) -> unlock(b) -> unlock(a)```\n",
    "\n",
    "Otherwise, a deadlock may occur. Why?"
   ]
  },
  {
   "cell_type": "markdown",
   "id": "4150b432",
   "metadata": {},
   "source": [
    "# 4. Mutexes with timeouts\n",
    "## 4.1. Why bother ?\n",
    "A thread can possibly remain blocked for a **loooooong** time on a lock operation if a thread holding the mutex is doing a lengthy calculation. The solution is using the ```timed lock``` operation:\n",
    "\n",
    "```c\n",
    "int pthread_mutex_timedlock(pthread_mutex_t *restrict mutex, const struct timespec *restrict abstime);\n",
    "```\n",
    "\n",
    "It works similiarly to ```pthread_mutex_lock()```, except that:\n",
    "* when calling thread blocks the system starts a **timer** which will expire when the system's clock reaches the value specified by the ```abstime``` parameter\n",
    "* If the mutex is still **locked**, the call returns with an error code.\n",
    "* If the mutex becomes unlocked earlier than the timeout, the lock operation succeeds; the thread obtains the lock and proceeds.\n",
    "\n",
    "## 4.2. Usage\n",
    "The ```struct timespec``` data type is defined in ```<time.h>``` and documented in POSIX documentation. You can read the CPU's current time value using: \n",
    "\n",
    "```c\n",
    "int clock_gettime(clockid_t, struct timespec *now);\n",
    "```\n",
    "\n",
    "where the first parameter must be ```CLOCK_REALTIME```. The result ```now``` contains the time value.\n",
    "\n",
    "The value has to be increased to a larger time value, which can then be passed to the timedlock operation as an argument. \n",
    "\n",
    "When that time value arrives and the lock still cannot be locked, the timedlock operation will return an ETIMEOUT error code (defined in ```<errno.h>```)"
   ]
  },
  {
   "cell_type": "markdown",
   "id": "44518e5e",
   "metadata": {},
   "source": [
    "# Appendix/Playground: Starter Code - ```ex_mutex.c```"
   ]
  },
  {
   "cell_type": "markdown",
   "id": "fceee741",
   "metadata": {},
   "source": [
    "Include necessary libraries and headers"
   ]
  },
  {
   "cell_type": "code",
   "execution_count": 1,
   "id": "6ce7f194",
   "metadata": {},
   "outputs": [],
   "source": [
    "#include <unistd.h>\n",
    "#include <stdio.h>\n",
    "#include <pthread.h>\n",
    "\n",
    "static pthread_mutex_t mymutex;\n",
    "static int th_cnt;"
   ]
  },
  {
   "cell_type": "markdown",
   "id": "3b54da9c",
   "metadata": {},
   "source": [
    "Thread function ```body``` using blocking locking (oppose to trylock)\n",
    "\n",
    "Plz ignore the warning message. This notebook is using a C++11 kernel"
   ]
  },
  {
   "cell_type": "code",
   "execution_count": 2,
   "id": "d158f6e2",
   "metadata": {},
   "outputs": [
    {
     "name": "stderr",
     "output_type": "stream",
     "text": [
      "\u001b[1minput_line_9:9:20: \u001b[0m\u001b[0;1;35mwarning: \u001b[0m\u001b[1mformat string is not a string literal (potentially insecure) [-Wformat-security]\u001b[0m\n",
      "    fprintf(stderr,(char *)arg);\n",
      "\u001b[0;1;32m                   ^       ~~~\n",
      "\u001b[0m\u001b[1minput_line_9:9:20: \u001b[0m\u001b[0;1;30mnote: \u001b[0mtreat the string as an argument to avoid this\u001b[0m\n",
      "    fprintf(stderr,(char *)arg);\n",
      "\u001b[0;1;32m                   ^\n",
      "\u001b[0m\u001b[0;32m                   \"%s\", \n",
      "\u001b[0m"
     ]
    }
   ],
   "source": [
    "static void *body(void *arg)\n",
    "{\n",
    "  int j;\n",
    "  \n",
    "  fprintf(stderr, \"Thread %d: %s\\n\", th_cnt++, (char *)arg); \n",
    "  pthread_mutex_lock(&mymutex);\n",
    "  for (j=0; j<20; j++) {\n",
    "    usleep(5);\n",
    "    fprintf(stderr,(char *)arg);\n",
    "  }\n",
    "  pthread_mutex_unlock(&mymutex);\n",
    "\n",
    "  return NULL;\n",
    "}"
   ]
  },
  {
   "cell_type": "markdown",
   "id": "83bf9644",
   "metadata": {},
   "source": [
    "```main``` program"
   ]
  },
  {
   "cell_type": "code",
   "execution_count": 3,
   "id": "5a037a37",
   "metadata": {},
   "outputs": [
    {
     "name": "stderr",
     "output_type": "stream",
     "text": [
      "Thread 0: .\n",
      "Thread 1: #\n",
      "Thread 2: o\n",
      "....................####################oooooooooooooooooooo"
     ]
    },
    {
     "name": "stdout",
     "output_type": "stream",
     "text": [
      "\n"
     ]
    }
   ],
   "source": [
    "pthread_t t1, t2, t3;\n",
    "int err;\n",
    "\n",
    "pthread_mutexattr_t mymutexattr;\n",
    "\n",
    "pthread_mutexattr_init(&mymutexattr);\n",
    "pthread_mutex_init(&mymutex, &mymutexattr);\n",
    "pthread_mutexattr_destroy(&mymutexattr);\n",
    "\n",
    "err = pthread_create(&t1, NULL, body, (void *)\".\");\n",
    "err = pthread_create(&t2, NULL, body, (void *)\"#\");\n",
    "err = pthread_create(&t3, NULL, body, (void *)\"o\");\n",
    "\n",
    "pthread_join(t1, NULL);\n",
    "pthread_join(t2, NULL);\n",
    "pthread_join(t3, NULL);\n",
    "\n",
    "pthread_mutex_destroy(&mymutex);\n",
    "printf(\"\\n\");"
   ]
  }
 ],
 "metadata": {
  "kernelspec": {
   "display_name": "C++11",
   "language": "C++11",
   "name": "xcpp11"
  },
  "language_info": {
   "codemirror_mode": "text/x-c++src",
   "file_extension": ".cpp",
   "mimetype": "text/x-c++src",
   "name": "c++",
   "version": "11"
  }
 },
 "nbformat": 4,
 "nbformat_minor": 5
}
