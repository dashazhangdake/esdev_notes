{
 "cells": [
  {
   "cell_type": "markdown",
   "id": "4e60d1af",
   "metadata": {},
   "source": [
    "This is a **non-offical** material for Lab3 just for your reference\n",
    "\n",
    "I am trying to write some Python codes that are functionally similiar to C you will use in Labs. However, I cannot guarantee that."
   ]
  },
  {
   "cell_type": "code",
   "execution_count": 1,
   "id": "4d04b428",
   "metadata": {},
   "outputs": [],
   "source": [
    "import threading\n",
    "import time"
   ]
  },
  {
   "cell_type": "markdown",
   "id": "f0e40b3f",
   "metadata": {},
   "source": [
    "# 1. ```ex_mutex``` in Python\n",
    "## 1.1. Body function\n",
    "I don't like global variables, so I use an ojbect to manage my thread bodies and payloads\n",
    "\n",
    "* ```thread_body()``` maps to the ```body()``` function\n",
    "* ```payloads``` maps to the static variables in C example\n",
    "* ```threading.Lock()``` maps to the ```mutex``` in pthreads"
   ]
  },
  {
   "cell_type": "code",
   "execution_count": 2,
   "id": "890880c2",
   "metadata": {},
   "outputs": [],
   "source": [
    "class MutexExample():\n",
    "    def __init__(self, payload0, payload1, locks):\n",
    "        self.payloads = [payload0, payload1]\n",
    "        self.locks = locks\n",
    "        \n",
    "    def thread_body(self, payload_id, lock_id, opcode, identifier, lock_enable=True):\n",
    "        # Make sure inputs to body are valid\n",
    "        assert ((payload_id == 0) or (payload_id == 1))\n",
    "        assert (opcode in ['add', 'sub', 'add_even'])\n",
    "        assert (lock_id < len(self.locks))\n",
    "        \n",
    "        if lock_enable:\n",
    "            self.locks[lock_id].acquire()\n",
    "        \n",
    "        # Do something depending on the opcode\n",
    "        for i in range(1000000):\n",
    "            if opcode == 'add':\n",
    "                self.payloads[payload_id] += i\n",
    "            elif opcode == 'sub':\n",
    "                self.payloads[payload_id] -= i\n",
    "            elif opcode == 'add_even':\n",
    "                if i % 2:\n",
    "                    self.payloads[payload_id] += i\n",
    "                    \n",
    "        if lock_enable:\n",
    "            self.locks[lock_id].release()\n",
    "        \n",
    "        print(f\"In body w/ id = {identifier}, and my payload is payload{payload_id} = {self.payloads[payload_id]}\")\n",
    "        return"
   ]
  },
  {
   "cell_type": "markdown",
   "id": "f06e523b",
   "metadata": {},
   "source": [
    "Without **multi-threading**, thread body works as expected with Single thread test "
   ]
  },
  {
   "cell_type": "code",
   "execution_count": 3,
   "id": "353659e4",
   "metadata": {},
   "outputs": [
    {
     "name": "stdout",
     "output_type": "stream",
     "text": [
      "In body w/ id = A, and my payload is payload0 = 499999500000\n",
      "In body w/ id = B, and my payload is payload0 = 0\n",
      "In body w/ id = C, and my payload is payload0 = 250000000000\n"
     ]
    }
   ],
   "source": [
    "lock = threading.Lock()\n",
    "\n",
    "mutex_demo = MutexExample(0, 0, [lock])\n",
    "mutex_demo.thread_body(payload_id=0, lock_id = 0, opcode='add', identifier='A')\n",
    "mutex_demo.thread_body(payload_id=0, lock_id = 0, opcode='sub', identifier='B')\n",
    "mutex_demo.thread_body(payload_id=0, lock_id = 0, opcode='add_even', identifier='C')"
   ]
  },
  {
   "cell_type": "markdown",
   "id": "c58c0852",
   "metadata": {},
   "source": [
    "## 1.2. Test\n",
    "### 1.2.1. No mutex\n",
    "We are testing a multiple thread program, mutex **disabled**. We hope to get 0 because we add, then subtract. \n",
    "The final result should be 0"
   ]
  },
  {
   "cell_type": "code",
   "execution_count": 4,
   "id": "69db3365",
   "metadata": {},
   "outputs": [
    {
     "name": "stdout",
     "output_type": "stream",
     "text": [
      "In body w/ id = A, and my payload is payload0 = 209890264712\n",
      "In body w/ id = B, and my payload is payload0 = 178872846567\n"
     ]
    }
   ],
   "source": [
    "lock = threading.Lock()\n",
    "mutex_demo = MutexExample(0, 0, [lock])\n",
    "\n",
    "thread1 = threading.Thread(target=mutex_demo.thread_body, args=(0, 0, 'add', 'A', False))\n",
    "thread2 = threading.Thread(target=mutex_demo.thread_body, args=(0, 0, 'sub', 'B', False))\n",
    "\n",
    "thread1.start()\n",
    "thread2.start()\n",
    "thread1.join()\n",
    "thread2.join()"
   ]
  },
  {
   "cell_type": "markdown",
   "id": "a3de4a10",
   "metadata": {},
   "source": [
    "As expected, t1 and t2 are in chaos, we cannot get any meaningful results"
   ]
  },
  {
   "cell_type": "markdown",
   "id": "34a53e4a",
   "metadata": {},
   "source": [
    "### 1.2.2. Mutex enabled\n",
    "Let's try **enable** mutexes"
   ]
  },
  {
   "cell_type": "code",
   "execution_count": 6,
   "id": "8c85e777",
   "metadata": {},
   "outputs": [
    {
     "name": "stdout",
     "output_type": "stream",
     "text": [
      "In body w/ id = A, and my payload is payload0 = 499999500000\n",
      "In body w/ id = B, and my payload is payload1 = -499999500000\n"
     ]
    }
   ],
   "source": [
    "lock = threading.Lock()\n",
    "mutex_demo = MutexExample(0, 0, [lock])\n",
    "\n",
    "thread1 = threading.Thread(target=mutex_demo.thread_body, args=(0, 0, 'add', 'A', True))\n",
    "thread2 = threading.Thread(target=mutex_demo.thread_body, args=(1, 0, 'sub', 'B', True))\n",
    "\n",
    "thread1.start()\n",
    "thread2.start()\n",
    "thread1.join()\n",
    "thread2.join()"
   ]
  },
  {
   "cell_type": "markdown",
   "id": "876c6c4e",
   "metadata": {},
   "source": [
    "As expected, we are getting determinsitic results now."
   ]
  }
 ],
 "metadata": {
  "kernelspec": {
   "display_name": "Python 3 (ipykernel)",
   "language": "python",
   "name": "python3"
  },
  "language_info": {
   "codemirror_mode": {
    "name": "ipython",
    "version": 3
   },
   "file_extension": ".py",
   "mimetype": "text/x-python",
   "name": "python",
   "nbconvert_exporter": "python",
   "pygments_lexer": "ipython3",
   "version": "3.7.12"
  }
 },
 "nbformat": 4,
 "nbformat_minor": 5
}
