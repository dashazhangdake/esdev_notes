{
 "cells": [
  {
   "cell_type": "code",
   "execution_count": 8,
   "id": "2e33caa9",
   "metadata": {},
   "outputs": [],
   "source": [
    "from typing import *\n",
    "import threading\n",
    "import time\n",
    "import math"
   ]
  },
  {
   "cell_type": "markdown",
   "id": "0d6653e7",
   "metadata": {},
   "source": [
    "# Background: Condition Variable in Python\n",
    "Considering a wierd coffee shop:\n",
    "* The Espresso machine can only make 3 cups of coffee at a time. And 3/time is the only option for producing\n",
    "* Customers only orders Espresso\n",
    "* This total number of servings <= total number of customers, it's a busy store\n",
    "\n",
    "Initialize condition variable and stock"
   ]
  },
  {
   "cell_type": "code",
   "execution_count": 12,
   "id": "731241be",
   "metadata": {},
   "outputs": [],
   "source": [
    "cond = threading.Condition()\n",
    "handlingtime = 0.5 # Say 0.5s is required to get the coffee\n",
    "makingtime = 1 # Say 1s is required to make the coffee"
   ]
  },
  {
   "cell_type": "code",
   "execution_count": 13,
   "id": "bff9c93e",
   "metadata": {},
   "outputs": [],
   "source": [
    "class CoffeeShop():\n",
    "    def __init__(self, coffee_num, daily_stock, handlingtime, makingtime): # By default, 0 coffee ready, 6 servings/day\n",
    "        self.coffee_num = coffee_num\n",
    "        self.daily_stock = daily_stock # Total # of servings per day\n",
    "        self.handle_time = handlingtime\n",
    "        self.making_time = makingtime"
   ]
  },
  {
   "cell_type": "code",
   "execution_count": 25,
   "id": "f2ef6c6b",
   "metadata": {},
   "outputs": [],
   "source": [
    "class openDay(CoffeeShop):\n",
    "    def __init__(self, coffee_num, daily_stock, handle_time, make_time, daily_customer):\n",
    "        super().__init__(coffee_num, daily_stock, handle_time, make_time)\n",
    "        self.customer_num = daily_customer\n",
    "        self.cond = threading.Condition()\n",
    "        \n",
    "    def consumers(self): # Customers\n",
    "        while (self.customer_num > 0 and self.coffee_num > 0):\n",
    "            self.cond.acquire()  \n",
    "\n",
    "            self.coffee_num -= 1\n",
    "            time.sleep(self.handle_time) # Preparing\n",
    "            self.customer_num -= 1\n",
    "\n",
    "            print(f\"Customer has picked up an order, coffee_ready={self.coffee_num}\")\n",
    "            if self.coffee_num == 0:\n",
    "                print(f\"Out of Stock, starting the machine!\")\n",
    "                self.cond.notify()\n",
    "                print('notify producer')\n",
    "                if (self.customer_num == 0) or (self.daily_stock == 0):\n",
    "                    break\n",
    "                else:\n",
    "                    self.cond.wait() #...waiting for the coffee maker\n",
    "        self.cond.release()\n",
    "        print(\"consumer done\")\n",
    "        \n",
    "    def producers(self): # Shop\n",
    "        print(f\"{self.daily_stock} servings left\")\n",
    "        if (self.daily_stock > 0):\n",
    "            self.cond.acquire()\n",
    "\n",
    "        while (self.daily_stock >= 3):\n",
    "            print(\"Producer is making coffee\")\n",
    "            time.sleep(self.making_time) # Making\n",
    "            self.coffee_num = 3\n",
    "            self.daily_stock -= 3\n",
    "            print(f\"We have refilled the stock to 3, only {self.daily_stock} servings left\")\n",
    "            \n",
    "            self.cond.notify()\n",
    "            print('notify consumer')\n",
    "            if (self.daily_stock == 0):\n",
    "                break\n",
    "            self.cond.wait()\n",
    "\n",
    "        print(\"Sold out! Coffee shop will close after treating the remaining customers\")\n",
    "        self.cond.release()\n",
    "        print(\"producer done\")"
   ]
  },
  {
   "cell_type": "code",
   "execution_count": 26,
   "id": "ef3264ee",
   "metadata": {},
   "outputs": [
    {
     "name": "stdout",
     "output_type": "stream",
     "text": [
      "6 servings left\n",
      "Producer is making coffee\n",
      "We have refilled the stock to 3, only 3 servings left\n",
      "notify consumer\n",
      "Customer has picked up an order, coffee_ready=2\n",
      "Customer has picked up an order, coffee_ready=1\n",
      "Customer has picked up an order, coffee_ready=0\n",
      "Out of Stock, starting the machine!\n",
      "notify producer\n",
      "Producer is making coffee\n",
      "We have refilled the stock to 3, only 0 servings left\n",
      "notify consumer\n",
      "Sold out! Coffee shop will close after treating the remaining customers\n",
      "producer done\n",
      "Customer has picked up an order, coffee_ready=2\n",
      "Customer has picked up an order, coffee_ready=1\n",
      "Customer has picked up an order, coffee_ready=0\n",
      "Out of Stock, starting the machine!\n",
      "notify producer\n",
      "consumer done\n",
      "niceday\n"
     ]
    }
   ],
   "source": [
    "testshop = openDay(3, 6, handlingtime, makingtime, 8)\n",
    "t1 = threading.Thread(target=testshop.producers)\n",
    "t2 = threading.Thread(target=testshop.consumers)\n",
    "t1.start()\n",
    "t2.start()\n",
    "\n",
    "t1.join()\n",
    "t2.join()\n",
    "print(\"niceday\")"
   ]
  },
  {
   "cell_type": "code",
   "execution_count": 27,
   "id": "606b5155",
   "metadata": {},
   "outputs": [
    {
     "name": "stdout",
     "output_type": "stream",
     "text": [
      "6 servings left\n",
      "Producer is making coffee\n",
      "We have refilled the stock to 3, only 3 servings left\n",
      "notify consumer\n",
      "Customer has picked up an order, coffee_ready=2\n",
      "Customer has picked up an order, coffee_ready=1\n",
      "Customer has picked up an order, coffee_ready=0\n",
      "Out of Stock, starting the machine!\n",
      "notify producer\n",
      "Producer is making coffee\n",
      "We have refilled the stock to 3, only 0 servings left\n",
      "notify consumer\n",
      "Sold out! Coffee shop will close after treating the remaining customers\n",
      "producer done\n",
      "Customer has picked up an order, coffee_ready=2\n",
      "consumer done\n",
      "niceday\n"
     ]
    }
   ],
   "source": [
    "testshop = openDay(3, 6, handlingtime, makingtime, 4)\n",
    "t1 = threading.Thread(target=testshop.producers)\n",
    "t2 = threading.Thread(target=testshop.consumers)\n",
    "t1.start()\n",
    "t2.start()\n",
    "\n",
    "t1.join()\n",
    "t2.join()\n",
    "print(\"niceday\")"
   ]
  },
  {
   "cell_type": "code",
   "execution_count": 28,
   "id": "af5f9229",
   "metadata": {},
   "outputs": [
    {
     "name": "stdout",
     "output_type": "stream",
     "text": [
      "12 servings left\n",
      "Producer is making coffee\n",
      "We have refilled the stock to 3, only 9 servings left\n",
      "notify consumer\n",
      "Customer has picked up an order, coffee_ready=2\n",
      "Customer has picked up an order, coffee_ready=1\n",
      "Customer has picked up an order, coffee_ready=0\n",
      "Out of Stock, starting the machine!\n",
      "notify producer\n",
      "Producer is making coffee\n",
      "We have refilled the stock to 3, only 6 servings left\n",
      "notify consumer\n",
      "Customer has picked up an order, coffee_ready=2\n",
      "Customer has picked up an order, coffee_ready=1\n",
      "Customer has picked up an order, coffee_ready=0\n",
      "Out of Stock, starting the machine!\n",
      "notify producer\n",
      "Producer is making coffee\n",
      "We have refilled the stock to 3, only 3 servings left\n",
      "notify consumer\n",
      "Customer has picked up an order, coffee_ready=2\n",
      "Customer has picked up an order, coffee_ready=1\n",
      "Customer has picked up an order, coffee_ready=0\n",
      "Out of Stock, starting the machine!\n",
      "notify producer\n",
      "Producer is making coffee\n",
      "We have refilled the stock to 3, only 0 servings left\n",
      "notify consumer\n",
      "Sold out! Coffee shop will close after treating the remaining customers\n",
      "producer done\n",
      "Customer has picked up an order, coffee_ready=2\n",
      "Customer has picked up an order, coffee_ready=1\n",
      "Customer has picked up an order, coffee_ready=0\n",
      "Out of Stock, starting the machine!\n",
      "notify producer\n",
      "consumer done\n",
      "niceday\n"
     ]
    }
   ],
   "source": [
    "testshop = openDay(3, 12, handlingtime, makingtime, 15)\n",
    "t1 = threading.Thread(target=testshop.producers)\n",
    "t2 = threading.Thread(target=testshop.consumers)\n",
    "t1.start()\n",
    "t2.start()\n",
    "\n",
    "t1.join()\n",
    "t2.join()\n",
    "print(\"niceday\")"
   ]
  },
  {
   "cell_type": "markdown",
   "id": "4f0b9537",
   "metadata": {},
   "source": [
    "\n",
    "# Prelab questions using Python"
   ]
  },
  {
   "cell_type": "markdown",
   "id": "9a4d48ff",
   "metadata": {},
   "source": [
    "Buffer element data structure"
   ]
  },
  {
   "cell_type": "code",
   "execution_count": null,
   "id": "88a41600",
   "metadata": {},
   "outputs": [],
   "source": [
    "class BufferElement():\n",
    "    def __init__(self, value: int, name: str):\n",
    "        self.value = value\n",
    "        self.name = name\n",
    "    \n",
    "    def print_element(self):\n",
    "        print(f\"[value = {self.value}, name = {self.name}]\")"
   ]
  },
  {
   "cell_type": "code",
   "execution_count": null,
   "id": "2988353f",
   "metadata": {},
   "outputs": [],
   "source": [
    "class CircularBuffer():\n",
    "    def __init__(self, buffer_depth):\n",
    "        # \"Plain\" member variables \n",
    "        self.buffer_array = [BufferElement(0, 'a') for _ in range(buffer_depth)]\n",
    "        self.depth = buffer_depth\n",
    "        self.read_ptr = 0\n",
    "        self.write_ptr = 0\n",
    "        self.counter = 0\n",
    "        \n",
    "        # Locks\n",
    "        self.buff_mutex = threading.Lock() # Mutex\n",
    "        self.buffer_cond = threading.Condition()  # Condition variable\n",
    "        \n",
    "    def enqueue(self, name: str, value: int):\n",
    "        if self.counter < self.depth:\n",
    "            self.buffer_array[self.write_ptr] = BufferElement(value, name)\n",
    "            self.write_ptr = (self.write_ptr + 1) % self.depth \n",
    "            self.counter += 1\n",
    "        else:\n",
    "            self.buffer_cond.wait()\n",
    "    \n",
    "    def dequeue(self): # simply return the element as a copy-like structure\n",
    "        if self.counter > 0:\n",
    "            read_idx = self.read_ptr\n",
    "            self.read_ptr = (self.read_ptr + 1) % self.depth\n",
    "            self.counter -= 1\n",
    "            \n",
    "        else:\n",
    "            self.buffer_cond.wait()\n",
    "        \n",
    "        return self.buffer_array[read_idx]\n",
    "    def print_buffer(self):\n",
    "        print(f\"Buffer depth is {self.depth}\")\n",
    "        print(f\"Readptr = {self.read_ptr}, Writeptr = {self.write_ptr}, Counter = {self.counter}\")\n",
    "        for ele in self.buffer_array:\n",
    "            ele.print_element()"
   ]
  },
  {
   "cell_type": "markdown",
   "id": "841e1f7d",
   "metadata": {},
   "source": [
    "Test ```enqueue/dequeue``` functions w/o ```lock```, it seems that the design works as expected, for now."
   ]
  },
  {
   "cell_type": "code",
   "execution_count": null,
   "id": "2f04a868",
   "metadata": {},
   "outputs": [],
   "source": [
    "test_buffer = CircularBuffer(8) # For the simplicity, let's use a depth of 8\n",
    "test_buffer.enqueue('A', 18)\n",
    "test_buffer.enqueue('B', 108)\n",
    "test_buffer.enqueue('C', 8)"
   ]
  },
  {
   "cell_type": "code",
   "execution_count": null,
   "id": "37a41540",
   "metadata": {},
   "outputs": [],
   "source": [
    "test_buffer.print_buffer()"
   ]
  },
  {
   "cell_type": "code",
   "execution_count": null,
   "id": "17eb588d",
   "metadata": {},
   "outputs": [],
   "source": [
    "for i in range(test_buffer.counter):\n",
    "    ele = test_buffer.dequeue()\n",
    "    ele.print_element()"
   ]
  },
  {
   "cell_type": "code",
   "execution_count": null,
   "id": "cfadead1",
   "metadata": {},
   "outputs": [],
   "source": [
    "test_buffer.print_buffer()"
   ]
  },
  {
   "cell_type": "code",
   "execution_count": null,
   "id": "d9dd750b",
   "metadata": {},
   "outputs": [],
   "source": []
  },
  {
   "cell_type": "code",
   "execution_count": null,
   "id": "9235afb4",
   "metadata": {},
   "outputs": [],
   "source": []
  }
 ],
 "metadata": {
  "kernelspec": {
   "display_name": "Python 3 (ipykernel)",
   "language": "python",
   "name": "python3"
  },
  "language_info": {
   "codemirror_mode": {
    "name": "ipython",
    "version": 3
   },
   "file_extension": ".py",
   "mimetype": "text/x-python",
   "name": "python",
   "nbconvert_exporter": "python",
   "pygments_lexer": "ipython3",
   "version": "3.8.12"
  }
 },
 "nbformat": 4,
 "nbformat_minor": 5
}
