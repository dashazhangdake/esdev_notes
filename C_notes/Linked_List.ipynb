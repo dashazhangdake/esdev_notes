{
 "cells": [
  {
   "cell_type": "markdown",
   "id": "fe8a6ab6",
   "metadata": {},
   "source": [
    "## Introduction\n",
    "\n",
    "Linked lists are the best and simplest example of a dynamic data structure that uses pointers for its implementation.\n",
    "\n",
    "Linked lists are arrays that can grow and shrink as needed, from any point of that array.\n",
    "\n",
    "Linked lists have a few advantages over plain arrays:\n",
    "1. Items can be added or removed from the middle of the list\n",
    "2. There is no need to define an initial size\n",
    "\n",
    "Meanwhile, linked lists have a few disadvantages:\n",
    "1. There is no random access - it is impossible to reach the ```nth``` item in the array without iterating over all items up until that item.\n",
    "2. Dynamic memory allocation and pointers required - complicates the code.\n",
    "3. Much larger overhead over arrays, since linked list items are dynamically allocated and each item in the list must store an additional pointer."
   ]
  },
  {
   "cell_type": "markdown",
   "id": "95ffeefd",
   "metadata": {},
   "source": [
    "## What is a linked list?\n",
    "\n",
    "A linked list is a set of dynamically allocated nodes, arranged in such a way that each node contains one value and one ```pointer```. The ```pointer``` always points to the next item of the list. The last item's ```pointer``` is ```NULL```.\n",
    "\n",
    "A linked list is held using a ```local pointer``` variable which points to the first item of the list. If that ```pointer``` is also ```NULL```, then the list is considered to be empty."
   ]
  },
  {
   "cell_type": "markdown",
   "id": "3c714477",
   "metadata": {},
   "source": [
    "    ------------------------------              ------------------------------\n",
    "    |              |             |            \\ |              |             |\n",
    "    |     DATA     |     NEXT    |--------------|     DATA     |     NEXT    |\n",
    "    |              |             |            / |              |             |\n",
    "    ------------------------------              ------------------------------"
   ]
  },
  {
   "cell_type": "markdown",
   "id": "550f664d",
   "metadata": {},
   "source": [
    "Let's define a linked list node, Name the node type ```node_t```"
   ]
  },
  {
   "cell_type": "code",
   "execution_count": 28,
   "id": "c5dd5dac",
   "metadata": {},
   "outputs": [],
   "source": [
    "typedef struct Node {\n",
    "    int val;\n",
    "    struct Node * next;\n",
    "} node_t;"
   ]
  },
  {
   "cell_type": "markdown",
   "id": "44845039",
   "metadata": {},
   "source": [
    "Now we can use the ```nodes```. Let's create a local variable which points to the first item of the list (called ```head```). Set the ```node_t.value``` be 1, and the ```node_t.next``` to be empty. Note we should always check if the ```malloc ``` returned a ```NULL``` or not."
   ]
  },
  {
   "cell_type": "code",
   "execution_count": 29,
   "id": "5fc5a10e",
   "metadata": {},
   "outputs": [],
   "source": [
    "node_t * head = NULL;\n",
    "head = (node_t *) malloc(sizeof(node_t));\n",
    "\n",
    "if (head == NULL) {\n",
    "    return 1;\n",
    "}\n",
    "\n",
    "head->val = 1;\n",
    "head->next = NULL;"
   ]
  },
  {
   "cell_type": "markdown",
   "id": "9d2be31d",
   "metadata": {},
   "source": [
    "To add variables to the end of the list, we can just continue advancing to the next pointer:"
   ]
  },
  {
   "cell_type": "code",
   "execution_count": 30,
   "id": "6e849815",
   "metadata": {},
   "outputs": [],
   "source": [
    "node_t * head = NULL;\n",
    "head = (node_t *) malloc(sizeof(node_t));\n",
    "head->val = 1;\n",
    "head->next = (node_t *) malloc(sizeof(node_t));\n",
    "head->next->val = 2;\n",
    "head->next->next = NULL;"
   ]
  },
  {
   "cell_type": "markdown",
   "id": "f7cf9460",
   "metadata": {},
   "source": [
    "## Iterate over a list\n",
    "\n",
    "Iterate over the list and print, use ```current``` pointer to keep track of the node we are currently concerning. After printing, ```current``` is set to the ```next``` node. We repeat this process until ```node-next == NULL```. (end of the list)"
   ]
  },
  {
   "cell_type": "markdown",
   "id": "11100ee6",
   "metadata": {},
   "source": [
    "### Iterate to print the list"
   ]
  },
  {
   "cell_type": "code",
   "execution_count": 31,
   "id": "c630dfc4",
   "metadata": {},
   "outputs": [],
   "source": [
    "void print_list(node_t * head) {\n",
    "    node_t * current = head;\n",
    "\n",
    "    while (current != NULL) {\n",
    "        printf(\"Current value: %d, Next node address: %p\\n\", current->val, current->next);\n",
    "        current = current->next;\n",
    "    }\n",
    "}"
   ]
  },
  {
   "cell_type": "markdown",
   "id": "68d1f9e1",
   "metadata": {},
   "source": [
    "### Adding an item to the end of the list\n",
    "To add to last, we start from the head and then in each step, we advance the pointer to the next item in the list"
   ]
  },
  {
   "cell_type": "code",
   "execution_count": 32,
   "id": "a676ba73",
   "metadata": {},
   "outputs": [],
   "source": [
    "void push_last(node_t * head, int val) {\n",
    "    node_t * current = head;\n",
    "    while (current->next != NULL) {\n",
    "        current = current -> next;\n",
    "    }\n",
    "    \n",
    "    /* reached the last node */\n",
    "    current->next = (node_t *) malloc (sizeof(node_t));\n",
    "    current->next->val = val;\n",
    "    current->next->next = NULL;\n",
    "}"
   ]
  },
  {
   "cell_type": "code",
   "execution_count": 33,
   "id": "98c6aa6a",
   "metadata": {},
   "outputs": [
    {
     "name": "stdout",
     "output_type": "stream",
     "text": [
      "Current value: 1, Next node address: 0x5562840e9530\n",
      "Current value: 2, Next node address: 0x5562846ce350\n",
      "Current value: 3, Next node address: 0x556284305500\n",
      "Current value: 9, Next node address: (nil)\n"
     ]
    }
   ],
   "source": [
    "push_last(head, 3);\n",
    "push_last(head, 9);\n",
    "print_list(head);"
   ]
  },
  {
   "cell_type": "markdown",
   "id": "f0842fc9",
   "metadata": {},
   "source": [
    "### Remove the last item of the list\n",
    "Removing the last item requires us to traverse the linked list, but track two items in one iteration. If the ```node-next-next == NULL```, we stop and remove the last item."
   ]
  },
  {
   "cell_type": "code",
   "execution_count": 34,
   "id": "3111e7d8",
   "metadata": {},
   "outputs": [],
   "source": [
    "int remove_last(node_t * head) {\n",
    "    int last_val = 0;\n",
    "    \n",
    "    /* if there is only one item in the list, remove it */\n",
    "    if (head->next == NULL) {\n",
    "        last_val = head->val;\n",
    "        free(head);\n",
    "        return last_val;\n",
    "    }\n",
    "    \n",
    "    /* traverse the linked list to the second to the last node */\n",
    "    node_t * current = head;\n",
    "    while(current->next->next != NULL) {\n",
    "        current = current -> next;\n",
    "    }\n",
    "    \n",
    "    last_val = current->next->val;\n",
    "    free(current->next);\n",
    "    current->next = NULL;\n",
    "    return last_val;\n",
    "}"
   ]
  },
  {
   "cell_type": "code",
   "execution_count": 35,
   "id": "1ec43fbf",
   "metadata": {},
   "outputs": [
    {
     "name": "stdout",
     "output_type": "stream",
     "text": [
      "Removed value: 9\n",
      "\n",
      "Current value: 1, Next node address: 0x5562840e9530\n",
      "Current value: 2, Next node address: 0x5562846ce350\n",
      "Current value: 3, Next node address: (nil)\n"
     ]
    }
   ],
   "source": [
    "int last_removed = remove_last(head);\n",
    "printf(\"Removed value: %d\\n\\n\", last_removed);\n",
    "print_list(head);"
   ]
  },
  {
   "cell_type": "markdown",
   "id": "43668c88",
   "metadata": {},
   "source": [
    "### Adding item to the beginning of the list\n",
    "\n",
    "To add to the beginning, we need to: \n",
    "1. Create a new item and set the value.\n",
    "2. Link the item to point to the head of the list.\n",
    "3. Set the ```head``` of the list be the new item.\n",
    "\n",
    "As we need to know the address of the first node, using ```ponter to pointer``` is necessary."
   ]
  },
  {
   "cell_type": "code",
   "execution_count": 36,
   "id": "b6c19997",
   "metadata": {},
   "outputs": [],
   "source": [
    "void push_first(node_t ** head, int val) {\n",
    "    node_t * new_node = (node_t *) malloc (sizeof(node_t));\n",
    "    new_node->val = val;\n",
    "    new_node->next = *head;\n",
    "    *head = new_node;\n",
    "}"
   ]
  },
  {
   "cell_type": "code",
   "execution_count": 37,
   "id": "906aee54",
   "metadata": {},
   "outputs": [
    {
     "name": "stdout",
     "output_type": "stream",
     "text": [
      "Current value: 7, Next node address: 0x5562840eb570\n",
      "Current value: 8, Next node address: 0x5562846d3e70\n",
      "Current value: 1, Next node address: 0x5562840e9530\n",
      "Current value: 2, Next node address: 0x5562846ce350\n",
      "Current value: 3, Next node address: (nil)\n"
     ]
    }
   ],
   "source": [
    "push_first(&head, 8);\n",
    "push_first(&head, 7);\n",
    "print_list(head);"
   ]
  },
  {
   "cell_type": "markdown",
   "id": "0472cd07",
   "metadata": {},
   "source": [
    "### Remove the first item from a list\n",
    "To pop a variable, we need to:\n",
    "\n",
    "1. Take the address of the next item and save it in a temp variable.\n",
    "2. Free the head item.\n",
    "3. Set the head to be the next item that we have sored "
   ]
  },
  {
   "cell_type": "code",
   "execution_count": 38,
   "id": "b37befac",
   "metadata": {},
   "outputs": [],
   "source": [
    "int remove_first(node_t ** head) {\n",
    "    int first_val = 0;\n",
    "    node_t * next_node = NULL;\n",
    "    \n",
    "    if (*head == NULL) {\n",
    "        return -1;\n",
    "    }\n",
    "    \n",
    "    next_node = (*head) -> next;\n",
    "    \n",
    "    first_val = (*head) -> val;\n",
    "    free(*head);\n",
    "\n",
    "    *head = next_node;\n",
    "    \n",
    "    return first_val;\n",
    "}"
   ]
  },
  {
   "cell_type": "code",
   "execution_count": 39,
   "id": "bdadc773",
   "metadata": {},
   "outputs": [
    {
     "name": "stdout",
     "output_type": "stream",
     "text": [
      "Current value: 8, Next node address: 0x5562846d3e70\n",
      "Current value: 1, Next node address: 0x5562840e9530\n",
      "Current value: 2, Next node address: 0x5562846ce350\n",
      "Current value: 3, Next node address: (nil)\n"
     ]
    }
   ],
   "source": [
    "int firstremoved = remove_first(&head);\n",
    "print_list(head)"
   ]
  },
  {
   "cell_type": "markdown",
   "id": "d2a20d79",
   "metadata": {},
   "source": [
    "### Remove a specific item (by index)\n",
    "\n",
    "To remove a specific item from the list, either by its index from the beginning of the list or by its value. Traversing the entire linked list might be necessary. The algorithm could be:\n",
    "1. Iterate the node before we wish to delete.\n",
    "2. Save the node we wish to delete in a temporary pointer.\n",
    "3. Set the previous node's next pointer to point to the node after the node to be deleted.\n",
    "4. Delete the node using the temporary pointer.\n",
    "\n",
    "There are a few edge cases that should be taken care of: "
   ]
  },
  {
   "cell_type": "code",
   "execution_count": 40,
   "id": "bc857f4a",
   "metadata": {},
   "outputs": [],
   "source": [
    "int remove_by_index(node_t ** head, int n) {\n",
    "    int i = 0;\n",
    "    int removed_val = 0;\n",
    "    node_t * current = *head;\n",
    "    node_t * temp_node = NULL;\n",
    "    \n",
    "    if (n==0) {\n",
    "        return remove_first(head);\n",
    "    }\n",
    "    \n",
    "    for (i = 0; i < n-1; i++) {\n",
    "        if (current->next == NULL) {\n",
    "            return -1;\n",
    "        }\n",
    "        current = current -> next;\n",
    "    }\n",
    "    \n",
    "    if (current->next == NULL) {\n",
    "        return remove_last(*head);\n",
    "    }\n",
    "    \n",
    "    temp_node = current->next;\n",
    "    removed_val = temp_node->val;\n",
    "    current->next = temp_node->next;\n",
    "    free(temp_node);\n",
    "    \n",
    "    return removed_val;\n",
    "} "
   ]
  },
  {
   "cell_type": "code",
   "execution_count": 41,
   "id": "e4999dd0",
   "metadata": {},
   "outputs": [
    {
     "name": "stdout",
     "output_type": "stream",
     "text": [
      "Current value: 8, Next node address: 0x5562846d3e70\n",
      "Current value: 1, Next node address: 0x5562846ce350\n",
      "Current value: 3, Next node address: (nil)\n"
     ]
    }
   ],
   "source": [
    "int removed = remove_by_index(&head, 2);\n",
    "print_list(head);"
   ]
  },
  {
   "cell_type": "markdown",
   "id": "1aad194f",
   "metadata": {},
   "source": [
    "### Add a specific item (by index)"
   ]
  },
  {
   "cell_type": "code",
   "execution_count": 42,
   "id": "5b93384e",
   "metadata": {},
   "outputs": [],
   "source": [
    "void add_by_index(node_t ** head, int n, int val) {\n",
    "    int i = 0;\n",
    "    node_t * current = *head;\n",
    "    node_t * added_node = NULL;\n",
    "    \n",
    "    if (n==0) {\n",
    "        push_first(head, val);\n",
    "    }\n",
    "    \n",
    "    for (i = 0; i < n-1; i++) {\n",
    "        if (current->next == NULL) {\n",
    "            return -1;\n",
    "        }\n",
    "        current = current -> next;\n",
    "    }\n",
    "    \n",
    "    if (current->next == NULL) {\n",
    "        return push_last(*head, val);\n",
    "    }\n",
    "    \n",
    "    added_node = (node_t *) malloc (sizeof(node_t));\n",
    "    added_node->val = val;\n",
    "    added_node->next = current->next;\n",
    "    current->next = added_node;\n",
    "} "
   ]
  },
  {
   "cell_type": "code",
   "execution_count": 43,
   "id": "f7b1a169",
   "metadata": {},
   "outputs": [
    {
     "name": "stdout",
     "output_type": "stream",
     "text": [
      "Current value: 8, Next node address: 0x5562843c97b0\n",
      "Current value: 200, Next node address: 0x5562846d3e70\n",
      "Current value: 1, Next node address: 0x5562846ce350\n",
      "Current value: 3, Next node address: (nil)\n"
     ]
    }
   ],
   "source": [
    "add_by_index(&head, 1, 200);\n",
    "print_list(head);"
   ]
  },
  {
   "cell_type": "markdown",
   "id": "6a0aa6b1",
   "metadata": {},
   "source": [
    "### Add a specific item (by value)"
   ]
  },
  {
   "cell_type": "code",
   "execution_count": 44,
   "id": "6bc156e1",
   "metadata": {},
   "outputs": [],
   "source": [
    "void add_by_value(node_t ** head, int val) {\n",
    "    node_t * current = *head;\n",
    "    node_t * added_node = NULL;\n",
    "    \n",
    "    while (current->val != val) {\n",
    "        if (current->next == NULL) {\n",
    "            return -1;\n",
    "        }\n",
    "        current = current -> next;\n",
    "    }\n",
    "    \n",
    "    added_node = (node_t *) malloc (sizeof(node_t));\n",
    "    added_node->val = val;\n",
    "    added_node->next = current->next;\n",
    "    current->next = added_node;\n",
    "}"
   ]
  },
  {
   "cell_type": "code",
   "execution_count": 45,
   "id": "f92f0d4c",
   "metadata": {},
   "outputs": [
    {
     "name": "stdout",
     "output_type": "stream",
     "text": [
      "Current value: 8, Next node address: 0x5562843c97b0\n",
      "Current value: 200, Next node address: 0x5562846d3e70\n",
      "Current value: 1, Next node address: 0x5562846ce350\n",
      "Current value: 3, Next node address: (nil)\n"
     ]
    }
   ],
   "source": [
    "print_list(head);"
   ]
  },
  {
   "cell_type": "code",
   "execution_count": 46,
   "id": "3eba593a",
   "metadata": {},
   "outputs": [
    {
     "name": "stdout",
     "output_type": "stream",
     "text": [
      "Current value: 8, Next node address: 0x556284141320\n",
      "Current value: 8, Next node address: 0x5562843c97b0\n",
      "Current value: 200, Next node address: 0x5562846d3e70\n",
      "Current value: 1, Next node address: 0x5562846ce350\n",
      "Current value: 3, Next node address: (nil)\n"
     ]
    }
   ],
   "source": [
    "add_by_value(&head, 8);\n",
    "print_list(head);"
   ]
  },
  {
   "cell_type": "markdown",
   "id": "050e6327",
   "metadata": {},
   "source": [
    "### Remove a specific item (by value)"
   ]
  },
  {
   "cell_type": "code",
   "execution_count": 47,
   "id": "2e4d1024",
   "metadata": {},
   "outputs": [],
   "source": [
    "int remove_by_value(node_t ** head, int val) {\n",
    "    int removed_val = 0;\n",
    "    node_t * current = *head;\n",
    "    node_t * prev_node = NULL;\n",
    "    \n",
    "    while (current->val != val) {\n",
    "        if (current->next == NULL) {\n",
    "            return -1;\n",
    "        }\n",
    "        prev_node = current;\n",
    "        current = current -> next;\n",
    "    }\n",
    "    \n",
    "    if (prev_node == NULL) {\n",
    "        return remove_first(head);\n",
    "    }\n",
    "    removed_val = current->val;\n",
    "    prev_node->next = current->next;\n",
    "    free(current);\n",
    "    \n",
    "    return removed_val;\n",
    "}"
   ]
  },
  {
   "cell_type": "code",
   "execution_count": 48,
   "id": "80334571",
   "metadata": {},
   "outputs": [
    {
     "name": "stdout",
     "output_type": "stream",
     "text": [
      "Current value: 8, Next node address: 0x5562843c97b0\n",
      "Current value: 200, Next node address: 0x5562846d3e70\n",
      "Current value: 1, Next node address: 0x5562846ce350\n",
      "Current value: 3, Next node address: (nil)\n"
     ]
    }
   ],
   "source": [
    "remove_by_value(&head, 8);\n",
    "print_list(head);"
   ]
  }
 ],
 "metadata": {
  "kernelspec": {
   "display_name": "C++14",
   "language": "C++14",
   "name": "xcpp14"
  },
  "language_info": {
   "codemirror_mode": "text/x-c++src",
   "file_extension": ".cpp",
   "mimetype": "text/x-c++src",
   "name": "c++",
   "version": "14"
  }
 },
 "nbformat": 4,
 "nbformat_minor": 5
}
