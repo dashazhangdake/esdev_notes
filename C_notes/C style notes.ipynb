{
 "cells": [
  {
   "cell_type": "markdown",
   "id": "dde92ff7",
   "metadata": {},
   "source": [
    "### Pass by Ptr vs Pass by value"
   ]
  },
  {
   "cell_type": "markdown",
   "id": "aa39f487",
   "metadata": {},
   "source": [
    "### Pass by value"
   ]
  },
  {
   "cell_type": "code",
   "execution_count": 1,
   "id": "a582c9ee",
   "metadata": {},
   "outputs": [
    {
     "name": "stdout",
     "output_type": "stream",
     "text": [
      "Before Swapping x = 1, y = 2\n",
      "After Swapping within scope by value x = 2, y = 1\n",
      "After Swapping x = 1, y = 2\n"
     ]
    }
   ],
   "source": [
    "void Swap(int x, int y) {\n",
    "    int temp;\n",
    "    temp = x;\n",
    "    x = y;\n",
    "    y = temp;\n",
    "    printf(\"After Swapping within scope by value x = %d, y = %d\\n\", x, y);\n",
    "}\n",
    "int a = 1;\n",
    "int b = 2;\n",
    "printf(\"Before Swapping x = %d, y = %d\\n\", a, b);\n",
    "Swap(a, b);\n",
    "printf(\"After Swapping x = %d, y = %d\\n\", a, b);"
   ]
  },
  {
   "cell_type": "markdown",
   "id": "243cc405",
   "metadata": {},
   "source": [
    "### Pass by pointer"
   ]
  },
  {
   "cell_type": "code",
   "execution_count": 2,
   "id": "3fde7e7a",
   "metadata": {},
   "outputs": [
    {
     "name": "stdout",
     "output_type": "stream",
     "text": [
      "Before Swapping x = 1, y = 2\n",
      "After Swapping within scope by Pointer x = 2, y = 1\n",
      "After Swapping x = 2, y = 1\n"
     ]
    }
   ],
   "source": [
    "void Swap(int *x, int *y) {\n",
    "    int temp;\n",
    "    temp = *x;\n",
    "    *x = *y;\n",
    "    *y = temp;\n",
    "    printf(\"After Swapping within scope by Pointer x = %d, y = %d\\n\", *x, *y);\n",
    "}\n",
    "int a = 1;\n",
    "int b = 2;\n",
    "printf(\"Before Swapping x = %d, y = %d\\n\", a, b);\n",
    "Swap(&a, &b);\n",
    "printf(\"After Swapping x = %d, y = %d\\n\", a, b);"
   ]
  },
  {
   "cell_type": "markdown",
   "id": "16be7549",
   "metadata": {},
   "source": [
    "## Struct Pointers"
   ]
  },
  {
   "cell_type": "markdown",
   "id": "87857639",
   "metadata": {},
   "source": [
    "### Pass struct by value, aka, copy"
   ]
  },
  {
   "cell_type": "code",
   "execution_count": 3,
   "id": "dc19682c",
   "metadata": {},
   "outputs": [],
   "source": [
    "struct turtle {\n",
    "    char* name;\n",
    "    char* species;\n",
    "    int age;\n",
    "};"
   ]
  },
  {
   "cell_type": "code",
   "execution_count": 4,
   "id": "de4049ff",
   "metadata": {},
   "outputs": [],
   "source": [
    "void happy(struct turtle t) {\n",
    "    t.age = t.age + 1;\n",
    "    printf(\"Turtle age in scope: %d\\n\", t.age);\n",
    "}"
   ]
  },
  {
   "cell_type": "code",
   "execution_count": 5,
   "id": "84727c25",
   "metadata": {},
   "outputs": [
    {
     "name": "stderr",
     "output_type": "stream",
     "text": [
      "\u001b[1minput_line_11:2:22: \u001b[0m\u001b[0;1;35mwarning: \u001b[0m\u001b[1mISO C++11 does not allow conversion from string literal to 'char *'\n",
      "      [-Wwritable-strings]\u001b[0m\n",
      " struct turtle t1 = {\"King\", \"Sea Turtle\", 99};\n",
      "\u001b[0;1;32m                     ^\n",
      "\u001b[0m\u001b[1minput_line_11:2:30: \u001b[0m\u001b[0;1;35mwarning: \u001b[0m\u001b[1mISO C++11 does not allow conversion from string literal to 'char *'\n",
      "      [-Wwritable-strings]\u001b[0m\n",
      " struct turtle t1 = {\"King\", \"Sea Turtle\", 99};\n",
      "\u001b[0;1;32m                             ^\n",
      "\u001b[0m"
     ]
    },
    {
     "name": "stdout",
     "output_type": "stream",
     "text": [
      "Turtle age in scope: 100\n",
      "Turtle age out of scope: 99\n"
     ]
    }
   ],
   "source": [
    "struct turtle t1 = {\"King\", \"Sea Turtle\", 99};\n",
    "happy(t1);\n",
    "printf(\"Turtle age out of scope: %d\\n\", t1.age);"
   ]
  },
  {
   "cell_type": "markdown",
   "id": "62aedfa3",
   "metadata": {},
   "source": [
    "### Pass struct by pointer\n",
    "Typically, pass struct by pointer is preferred. Copying struct can be expensive."
   ]
  },
  {
   "cell_type": "code",
   "execution_count": 6,
   "id": "1b23b49a",
   "metadata": {},
   "outputs": [],
   "source": [
    "void happy(struct turtle *t) {\n",
    "    (*t).age = (*t).age + 2;\n",
    "    t->age -= 1; \n",
    "    printf(\"Turtle age in scope: %d\\n\", t->age);\n",
    "}"
   ]
  },
  {
   "cell_type": "code",
   "execution_count": 7,
   "id": "a43ee464",
   "metadata": {},
   "outputs": [
    {
     "name": "stdout",
     "output_type": "stream",
     "text": [
      "Turtle age in scope: 100\n",
      "Turtle age out of scope: 100\n"
     ]
    }
   ],
   "source": [
    "happy(&t1);\n",
    "printf(\"Turtle age out of scope: %d\\n\", t1.age);"
   ]
  },
  {
   "cell_type": "markdown",
   "id": "00e2abd2",
   "metadata": {},
   "source": [
    "## Dynamic Allocation"
   ]
  },
  {
   "cell_type": "markdown",
   "id": "34f10f76",
   "metadata": {},
   "source": [
    "### Allocate struct on the heap"
   ]
  },
  {
   "cell_type": "code",
   "execution_count": 3,
   "id": "17905e65",
   "metadata": {},
   "outputs": [],
   "source": [
    "typedef struct {\n",
    "    char * name;\n",
    "    int age;\n",
    "} person;"
   ]
  },
  {
   "cell_type": "code",
   "execution_count": 5,
   "id": "e75ae5e6",
   "metadata": {},
   "outputs": [],
   "source": [
    "person *myperson = (person*)malloc(sizeof(person));\n",
    "free(myperson)"
   ]
  },
  {
   "cell_type": "code",
   "execution_count": 7,
   "id": "b3533ecc",
   "metadata": {},
   "outputs": [],
   "source": [
    "typedef struct {\n",
    "  int x;\n",
    "  int y;\n",
    "} point;"
   ]
  },
  {
   "cell_type": "code",
   "execution_count": 8,
   "id": "bff86c4b",
   "metadata": {},
   "outputs": [
    {
     "name": "stdout",
     "output_type": "stream",
     "text": [
      "mypoint coordinates: 10, 5\n"
     ]
    }
   ],
   "source": [
    "point *mypoint = (point*) malloc(sizeof(point));\n",
    "mypoint->x = 10;\n",
    "mypoint->y =5 ;\n",
    "printf(\"mypoint coordinates: %d, %d\\n\", mypoint->x, mypoint->y);\n",
    "free(mypoint);"
   ]
  },
  {
   "cell_type": "markdown",
   "id": "e85b3c4e",
   "metadata": {},
   "source": [
    "### Counterpart in C++: new"
   ]
  },
  {
   "cell_type": "code",
   "execution_count": 19,
   "id": "fae7ab60",
   "metadata": {},
   "outputs": [
    {
     "name": "stdout",
     "output_type": "stream",
     "text": [
      "mypoint coordinates: 11, 545\n"
     ]
    }
   ],
   "source": [
    "point *mypoint1 = new point;\n",
    "mypoint1->x = 11;\n",
    "mypoint1->y = 545 ;\n",
    "printf(\"mypoint coordinates: %d, %d\\n\", mypoint1->x, mypoint1->y);\n",
    "delete mypoint1"
   ]
  },
  {
   "cell_type": "markdown",
   "id": "a3d02362",
   "metadata": {},
   "source": [
    "## Array and Pointers"
   ]
  },
  {
   "cell_type": "markdown",
   "id": "71c3dd47",
   "metadata": {},
   "source": [
    "### Array name is the pointer to the first array element"
   ]
  },
  {
   "cell_type": "markdown",
   "id": "3343e65f",
   "metadata": {},
   "source": [
    "For example, in the following code, the pointer variable pc stores the address of the character variable c."
   ]
  },
  {
   "cell_type": "code",
   "execution_count": 29,
   "id": "23f0a5da",
   "metadata": {},
   "outputs": [],
   "source": [
    "char c = 'A';\n",
    "char *pc = &c;"
   ]
  },
  {
   "cell_type": "markdown",
   "id": "8df89237",
   "metadata": {},
   "source": [
    "Extend pointer to char into pointer to arrays"
   ]
  },
  {
   "cell_type": "code",
   "execution_count": 30,
   "id": "a0f3fea4",
   "metadata": {},
   "outputs": [
    {
     "name": "stdout",
     "output_type": "stream",
     "text": [
      "&vowels[0]: 0x7fc76ec070c8, pvowels + 0: 0x7fc76ec070c8, vowels + 0: 0x7fc76ec070c8\n",
      "&vowels[1]: 0x7fc76ec070c9, pvowels + 1: 0x7fc76ec070c9, vowels + 1: 0x7fc76ec070c9\n",
      "&vowels[2]: 0x7fc76ec070ca, pvowels + 2: 0x7fc76ec070ca, vowels + 2: 0x7fc76ec070ca\n",
      "&vowels[3]: 0x7fc76ec070cb, pvowels + 3: 0x7fc76ec070cb, vowels + 3: 0x7fc76ec070cb\n",
      "&vowels[4]: 0x7fc76ec070cc, pvowels + 4: 0x7fc76ec070cc, vowels + 4: 0x7fc76ec070cc\n",
      "vowels[0]: A, *(pvowels + 0): A, *(vowels + 0): A\n",
      "vowels[1]: E, *(pvowels + 1): E, *(vowels + 1): E\n",
      "vowels[2]: I, *(pvowels + 2): I, *(vowels + 2): I\n",
      "vowels[3]: O, *(pvowels + 3): O, *(vowels + 3): O\n",
      "vowels[4]: U, *(pvowels + 4): U, *(vowels + 4): U\n"
     ]
    }
   ],
   "source": [
    "char vowels[] = {'A', 'E', 'I', 'O', 'U'};\n",
    "char *pvowels = vowels;\n",
    "int i;\n",
    "\n",
    "// Print the addresses\n",
    "for (i = 0; i < 5; i++) {\n",
    "    printf(\"&vowels[%d]: %p, pvowels + %d: %p, vowels + %d: %p\\n\", i, &vowels[i], i, pvowels + i, i, vowels + i);\n",
    "}\n",
    "\n",
    "// Print the values\n",
    "for (i = 0; i < 5; i++) {\n",
    "    printf(\"vowels[%d]: %c, *(pvowels + %d): %c, *(vowels + %d): %c\\n\", i, vowels[i], i, *(pvowels + i), i, *(vowels + i));\n",
    "}"
   ]
  },
  {
   "cell_type": "markdown",
   "id": "97024894",
   "metadata": {},
   "source": [
    "- ```&vowels[i]``` gives the memory location of the ith element of the array vowels. \n",
    "- Each element occupies one byte, so address incremental is one Byte"
   ]
  },
  {
   "cell_type": "markdown",
   "id": "9a6168a3",
   "metadata": {},
   "source": [
    "**The name of an array itself is a (constant) pointer to the first element of the array.**\n",
    "\n",
    "the notations ```vowels```, ```&vowels[0]```, and ```vowels + 0``` all point to the same location."
   ]
  },
  {
   "cell_type": "code",
   "execution_count": 31,
   "id": "b1405dc6",
   "metadata": {},
   "outputs": [
    {
     "name": "stdout",
     "output_type": "stream",
     "text": [
      "vowel addr: 0x7fc76ec070c8 \n"
     ]
    },
    {
     "data": {
      "text/plain": [
       "28"
      ]
     },
     "execution_count": 31,
     "metadata": {},
     "output_type": "execute_result"
    }
   ],
   "source": [
    "printf(\"vowel addr: %p \\n\", vowels)"
   ]
  },
  {
   "cell_type": "markdown",
   "id": "f5d4bcab",
   "metadata": {},
   "source": [
    "### Array on the heap"
   ]
  },
  {
   "cell_type": "code",
   "execution_count": 37,
   "id": "dc5e0e82",
   "metadata": {},
   "outputs": [
    {
     "name": "stdout",
     "output_type": "stream",
     "text": [
      "A E I O U \n"
     ]
    }
   ],
   "source": [
    "int n = 5;\n",
    "char *pvowels = (char*)malloc(sizeof(char)*n);\n",
    "int i;\n",
    "\n",
    "*(pvowels) = 'A';\n",
    "pvowels[1] = 'E';\n",
    "*(pvowels + 2) = 'I';\n",
    "pvowels[3] = 'O';\n",
    "*(pvowels + 4) = 'U';\n",
    "\n",
    "for (i = 0; i < n; i++) {\n",
    "    printf(\"%c \", pvowels[i]);\n",
    "}\n",
    "\n",
    "printf(\"\\n\");\n",
    "\n",
    "free(pvowels);"
   ]
  },
  {
   "cell_type": "markdown",
   "id": "8946149e",
   "metadata": {},
   "source": [
    "In the above code, we allocated five contiguous bytes of memory to store five characters. Subsequently, we used array notations to traverse the blocks of memory as if ```pvowels``` is an array. However, remember that ```pvowels``` actually is a pointer. Pointers and arrays, in general, are not the same thing."
   ]
  },
  {
   "cell_type": "markdown",
   "id": "3fc40bdb",
   "metadata": {},
   "source": [
    "**By using dynamic memory allocation, one can allocate just as much memory as required by a program.**\n",
    "\n",
    "\n",
    "A 2d array on the heap using ptr to ptr"
   ]
  },
  {
   "cell_type": "code",
   "execution_count": 39,
   "id": "ab23aabe",
   "metadata": {},
   "outputs": [
    {
     "name": "stdout",
     "output_type": "stream",
     "text": [
      "A E I O U \n",
      "a e i o u \n"
     ]
    }
   ],
   "source": [
    "int nrows = 2;\n",
    "int ncols = 5;\n",
    "int i, j;\n",
    "\n",
    "char **pvowels = (char **)malloc(nrows * sizeof(char *));\n",
    "\n",
    "*(pvowels) = (char*)malloc(sizeof(char)*ncols);\n",
    "*(pvowels + 1) = (char*)malloc(sizeof(char)*ncols);\n",
    "\n",
    "pvowels[0][0] = 'A';\n",
    "pvowels[0][1] = 'E';\n",
    "pvowels[0][2] = 'I';\n",
    "pvowels[0][3] = 'O';\n",
    "pvowels[0][4] = 'U';\n",
    "\n",
    "pvowels[1][0] = 'a';\n",
    "pvowels[1][1] = 'e';\n",
    "pvowels[1][2] = 'i';\n",
    "pvowels[1][3] = 'o';\n",
    "pvowels[1][4] = 'u';\n",
    "\n",
    "for (i = 0; i < nrows; i++) {\n",
    "    for(j = 0; j < ncols; j++) {\n",
    "        printf(\"%c \", pvowels[i][j]);\n",
    "    }\n",
    "\n",
    "    printf(\"\\n\");\n",
    "}\n",
    "\n",
    "// Free individual rows\n",
    "free(pvowels[0]);\n",
    "free(pvowels[1]);\n",
    "\n",
    "// Free the top-level pointer\n",
    "free(pvowels);"
   ]
  },
  {
   "cell_type": "markdown",
   "id": "50d1838f",
   "metadata": {},
   "source": [
    "### Exercise\n",
    "The first seven rows of Pascal's triangle are shown below. Note that row i contains i elements. Therefore, to store the numbers from the first three rows, one would require 1 + 2 + 3 = 6 memory slots.\n",
    "\n",
    "1\n",
    "\n",
    "1 1\n",
    "\n",
    "1 2 1\n",
    "\n",
    "1 3 3 1\n",
    "\n",
    "1 4 6 4 1\n",
    "\n",
    "1 5 10 10 5 1\n",
    "\n",
    "1 6 15 20 15 6 1\n"
   ]
  },
  {
   "cell_type": "code",
   "execution_count": 1,
   "id": "291083d3",
   "metadata": {},
   "outputs": [
    {
     "name": "stdout",
     "output_type": "stream",
     "text": [
      "1\n",
      "11\n",
      "121\n"
     ]
    }
   ],
   "source": [
    "int i, j;\n",
    "int **pnumbers = (int**) malloc(sizeof(int*) * 6);\n",
    "/* TODO: allocate memory for storing the individual elements in a row */\n",
    "pnumbers[0] = (int *) malloc(1 * sizeof(int));\n",
    "pnumbers[1] = (int *) malloc(2 * sizeof(int));\n",
    "pnumbers[2] = (int *) malloc(3 * sizeof(int));\n",
    "\n",
    "pnumbers[0][0] = 1;\n",
    "pnumbers[1][0] = 1;\n",
    "pnumbers[1][1] = 1;\n",
    "pnumbers[2][0] = 1;\n",
    "pnumbers[2][1] = 2;\n",
    "pnumbers[2][2] = 1;\n",
    "\n",
    "for (i = 0; i < 3; i++) {\n",
    "    for (j = 0; j <= i; j++) {\n",
    "        printf(\"%d\", pnumbers[i][j]);\n",
    "    }\n",
    "    printf(\"\\n\");\n",
    "}\n",
    "\n",
    "for (i = 0; i < 3; i++) {\n",
    "    /* TODO: free memory allocated for each row */\n",
    "    free(pnumbers[i]);\n",
    "}\n",
    "\n",
    "free(pnumbers);"
   ]
  }
 ],
 "metadata": {
  "kernelspec": {
   "display_name": "C++14",
   "language": "C++14",
   "name": "xcpp14"
  },
  "language_info": {
   "codemirror_mode": "text/x-c++src",
   "file_extension": ".cpp",
   "mimetype": "text/x-c++src",
   "name": "c++",
   "version": "14"
  }
 },
 "nbformat": 4,
 "nbformat_minor": 5
}
